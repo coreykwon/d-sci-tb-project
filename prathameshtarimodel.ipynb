{
 "cells": [
  {
   "cell_type": "markdown",
   "metadata": {},
   "source": [
    "## Predicting Football Match Outcome"
   ]
  },
  {
   "cell_type": "markdown",
   "metadata": {},
   "source": [
    "## ALL CREDITS TO Prathamesh Tari, I TAKE NO CREDIT"
   ]
  },
  {
   "cell_type": "markdown",
   "metadata": {},
   "source": [
    "European Football or soccer is the world’s most popular team sport. It is played by over 150 million men and women of all ages in more than 200 countries [1].It is also one of the favorite sports for betting. The current estimations, which include both the illegal markets and the legal markets, suggest the sports match-betting industry is worth anywhere between 700bn and 1tn dollars a year [2].\n",
    "\n",
    "The bookies have their own prediction model and they get it right about 53% of the time [3]. Football pundit Mark Lawrenson had prediction accuracy of 52.6% [4]. The aim of this project is to build a system to predict the outcome using machine learning algorithms like Support Vector Machine, Naïve Bayes and logistic Regression."
   ]
  },
  {
   "cell_type": "markdown",
   "metadata": {},
   "source": [
    "## Dataset\n",
    "\n",
    "I am using two datasets for this project. The first dataset I got the data science community Kaggle https://www.kaggle.com/hugomathien/soccer. This dataset is used to perform exploratory data analysis. But this dataset has few missing data essential for prediction so the second dataset I am using is from http://football-data.co.uk/data.php. This dataset had more seasons and I am compiling these seasons into one and creating features to make prediction\n",
    "\n",
    "Initially I am performing Exploratory Data Analysis on the dataset I got from the Kaggle website.\n",
    "\n",
    "This dataset was in sqlite format and has tables of Country, League, Match, Player, Player Attributes, Team ,Team Attributes and sequences. It has information of more than 25000 matches, 10000 players, 11 European Countries with their lead championship from 2008 to 2016, Players and Teams attributes sourced from EA Sports' FIFA video game series, betting odds from up to 10 providers\n",
    "\n",
    "I am only going to use the information from country, match, league and team for the EDA. This are the information which would be useful to understand the game."
   ]
  },
  {
   "cell_type": "code",
   "execution_count": null,
   "metadata": {},
   "outputs": [],
   "source": [
    "%matplotlib inline\n",
    "\n",
    "import numpy as np\n",
    "import matplotlib.pyplot as plt\n",
    "import seaborn as sns\n",
    "import pandas as pd\n",
    "import sqlite3\n",
    "import numpy as np\n",
    "import matplotlib.gridspec as gridspec\n",
    "from numpy import random\n",
    "import scipy.stats as scipy\n",
    "\n",
    "from IPython.display import display\n",
    "\n",
    "from sklearn.metrics import accuracy_score\n",
    "\n",
    "with sqlite3.connect('database.sqlite') as con:\n",
    "    countries = pd.read_sql_query(\"SELECT * from Country\", con)\n",
    "    matches = pd.read_sql_query(\"SELECT * from Match\", con)\n",
    "    leagues = pd.read_sql_query(\"SELECT * from League\", con)\n",
    "    teams = pd.read_sql_query(\"SELECT * from Team\", con)\n",
    "    tempmatch = pd.read_sql_query(\"SELECT * from Match\", con)\n",
    "    matches3 = matches2 = matches"
   ]
  },
  {
   "cell_type": "code",
   "execution_count": null,
   "metadata": {},
   "outputs": [],
   "source": [
    "matches.tail()\n",
    "#matches.describe()"
   ]
  },
  {
   "cell_type": "markdown",
   "metadata": {},
   "source": [
    "## Selecting the countries of interest\n",
    "\n",
    "First we will to select the countries of interest for our analysis. I am selecting England, Germany and Spain as these are the most popular and most watched leagues in football. These leagues are the most competitive league and it would give better understanding of the game."
   ]
  },
  {
   "cell_type": "code",
   "execution_count": 1,
   "metadata": {},
   "outputs": [
    {
     "ename": "NameError",
     "evalue": "name 'countries' is not defined",
     "output_type": "error",
     "traceback": [
      "\u001b[0;31m---------------------------------------------------------------------------\u001b[0m",
      "\u001b[0;31mNameError\u001b[0m                                 Traceback (most recent call last)",
      "\u001b[0;32m<ipython-input-1-006fbb2447f1>\u001b[0m in \u001b[0;36m<module>\u001b[0;34m\u001b[0m\n\u001b[1;32m      1\u001b[0m \u001b[0mmain_countries\u001b[0m \u001b[0;34m=\u001b[0m \u001b[0;34m[\u001b[0m\u001b[0;34m'England'\u001b[0m\u001b[0;34m,\u001b[0m\u001b[0;34m'Germany'\u001b[0m\u001b[0;34m,\u001b[0m\u001b[0;34m'Spain'\u001b[0m\u001b[0;34m]\u001b[0m\u001b[0;34m\u001b[0m\u001b[0;34m\u001b[0m\u001b[0m\n\u001b[0;32m----> 2\u001b[0;31m \u001b[0mcountries\u001b[0m \u001b[0;34m=\u001b[0m \u001b[0mcountries\u001b[0m\u001b[0;34m[\u001b[0m\u001b[0mcountries\u001b[0m\u001b[0;34m.\u001b[0m\u001b[0mname\u001b[0m\u001b[0;34m.\u001b[0m\u001b[0misin\u001b[0m\u001b[0;34m(\u001b[0m\u001b[0mmain_countries\u001b[0m\u001b[0;34m)\u001b[0m\u001b[0;34m]\u001b[0m\u001b[0;34m\u001b[0m\u001b[0;34m\u001b[0m\u001b[0m\n\u001b[0m\u001b[1;32m      3\u001b[0m \u001b[0mleagues\u001b[0m \u001b[0;34m=\u001b[0m \u001b[0mcountries\u001b[0m\u001b[0;34m.\u001b[0m\u001b[0mmerge\u001b[0m\u001b[0;34m(\u001b[0m\u001b[0mleagues\u001b[0m\u001b[0;34m,\u001b[0m\u001b[0mon\u001b[0m\u001b[0;34m=\u001b[0m\u001b[0;34m'id'\u001b[0m\u001b[0;34m,\u001b[0m\u001b[0msuffixes\u001b[0m\u001b[0;34m=\u001b[0m\u001b[0;34m(\u001b[0m\u001b[0;34m''\u001b[0m\u001b[0;34m,\u001b[0m \u001b[0;34m'_y'\u001b[0m\u001b[0;34m)\u001b[0m\u001b[0;34m)\u001b[0m\u001b[0;34m\u001b[0m\u001b[0;34m\u001b[0m\u001b[0m\n\u001b[1;32m      4\u001b[0m \u001b[0mseasons\u001b[0m \u001b[0;34m=\u001b[0m \u001b[0mmatches\u001b[0m\u001b[0;34m.\u001b[0m\u001b[0mseason\u001b[0m\u001b[0;34m.\u001b[0m\u001b[0munique\u001b[0m\u001b[0;34m(\u001b[0m\u001b[0;34m)\u001b[0m\u001b[0;34m\u001b[0m\u001b[0;34m\u001b[0m\u001b[0m\n\u001b[1;32m      5\u001b[0m \u001b[0mleagues\u001b[0m\u001b[0;34m\u001b[0m\u001b[0;34m\u001b[0m\u001b[0m\n",
      "\u001b[0;31mNameError\u001b[0m: name 'countries' is not defined"
     ]
    }
   ],
   "source": [
    "main_countries = ['England','Germany','Spain']\n",
    "countries = countries[countries.name.isin(main_countries)]\n",
    "leagues = countries.merge(leagues,on='id',suffixes=('', '_y'))\n",
    "seasons = matches.season.unique()\n",
    "leagues"
   ]
  },
  {
   "cell_type": "markdown",
   "metadata": {},
   "source": [
    "## Merge the leagues with corresponding matches"
   ]
  },
  {
   "cell_type": "code",
   "execution_count": null,
   "metadata": {},
   "outputs": [],
   "source": [
    "req_matches = matches[matches.league_id.isin(leagues['id'])]\n",
    "req_matches = req_matches[['id','league_id','home_team_api_id','away_team_api_id','home_team_goal','away_team_goal','season']]\n",
    "req_matches[\"total_goals\"] = req_matches['home_team_goal'] + req_matches['away_team_goal']\n",
    "req_matches.dropna(inplace=True)\n",
    "req_matches.head()"
   ]
  },
  {
   "cell_type": "markdown",
   "metadata": {},
   "source": [
    "## Adding results of the match\n",
    "\n",
    "As these dataset did not contain the result of the match we would add the results by comparing the home team goal and away team goal for that match. If the home team has more goals than the away team then the home team won the match and if not then the away team won the match. If both the goals are equal matche ended in draw. I am giving win as 1, draw as 0 and loss as -1 and then appended it to the table."
   ]
  },
  {
   "cell_type": "code",
   "execution_count": null,
   "metadata": {},
   "outputs": [],
   "source": [
    "def res(row):\n",
    "    if row['home_team_goal'] == row['away_team_goal']:\n",
    "        val = 0\n",
    "    elif row['home_team_goal'] > row['away_team_goal']:\n",
    "        val = 1\n",
    "    else:\n",
    "        val = -1\n",
    "    return val\n",
    "\n",
    "req_matches[\"result\"] = req_matches.apply(res,axis = 1)\n",
    "req_matches.head()"
   ]
  },
  {
   "cell_type": "markdown",
   "metadata": {},
   "source": [
    "## Separating the leagues\n",
    "\n",
    "The matches need to be separated and grouped by their leagues. A new dataframe for storing the separated leagues is created."
   ]
  },
  {
   "cell_type": "code",
   "execution_count": null,
   "metadata": {},
   "outputs": [],
   "source": [
    "new_matches = pd.merge(req_matches,leagues,left_on='league_id', right_on='id')\n",
    "new_matches = new_matches.drop(['id_x','id_y','country_id'],axis = 1)\n",
    "english = new_matches[new_matches.name == \"England\"]\n",
    "spanish = new_matches[new_matches.name == \"Spain\"]\n",
    "german = new_matches[new_matches.name == \"Germany\"]\n",
    "\n",
    "display(english.head())\n",
    "display(german.head())\n",
    "display(spanish.tail())"
   ]
  },
  {
   "cell_type": "markdown",
   "metadata": {},
   "source": [
    "## Grouping and dividing by seasons\n",
    "\n",
    "Then dividing them by their seasons and storing them into new dataframe."
   ]
  },
  {
   "cell_type": "code",
   "execution_count": null,
   "metadata": {},
   "outputs": [],
   "source": [
    "e = english.groupby('season')\n",
    "s = spanish.groupby('season')\n",
    "g = german.groupby('season')\n",
    "seasons\n",
    "display(e.head(2))\n",
    "display(s.tail(2))\n",
    "display(g.tail(2))"
   ]
  },
  {
   "cell_type": "markdown",
   "metadata": {},
   "source": [
    "## Plotting total goals scored each season\n",
    "\n",
    "We plot the total number of goals scored by all team in each season. We plot this on pyplot."
   ]
  },
  {
   "cell_type": "code",
   "execution_count": null,
   "metadata": {},
   "outputs": [],
   "source": [
    "fig = plt.figure(figsize=(10, 10))\n",
    "plt.title(\"Total goals in each season\")\n",
    "plt.xticks(range(len(seasons)),seasons)\n",
    "plt.style.use('ggplot')\n",
    "plt.xlabel(\"Season\")\n",
    "plt.ylabel(\"Total Goals Scored\")\n",
    "num_seasons = range(len(seasons))\n",
    "\n",
    "plt.plot(num_seasons,e.total_goals.sum().values,label = \"English Premier League\", marker = 'o')\n",
    "plt.plot(num_seasons,g.total_goals.sum().values,label = \"German Bundesliga\", marker = 'o')\n",
    "plt.plot(num_seasons,s.total_goals.sum().values,label = \"Spanish La Liga\", marker = 'o')\n",
    "plt.legend()\n",
    "seasons"
   ]
  },
  {
   "cell_type": "markdown",
   "metadata": {},
   "source": [
    "We can see that the Spanish teams overall score more than the teams in Premier League and in Bundesliga. But the total goals in Bundesliga is low due to the fact that only 18 teams compete in the league. So each team in Bundesliga plays only 34 matches in a season whereas each team in premier league plays 38 matches. So the total games played in Premier League and La Liga is 380 whereas total games played in Bundesliga is 306."
   ]
  },
  {
   "cell_type": "code",
   "execution_count": null,
   "metadata": {},
   "outputs": [],
   "source": [
    "#Plotting average goals scored each season\n",
    "fig = plt.figure(figsize=(10, 10))\n",
    "plt.xticks(range(len(seasons)),seasons)\n",
    "plt.style.use('ggplot')\n",
    "plt.xlabel(\"Season\")\n",
    "plt.title(\"Average goals per game each season\")\n",
    "plt.ylabel(\"Average goals per game\")\n",
    "\n",
    "plt.plot(num_seasons,e.total_goals.mean().values,label = \"English Premier League\", marker = 'o')\n",
    "plt.plot(num_seasons,g.total_goals.mean().values,label = \"German Bundesliga\", marker = 'o')\n",
    "plt.plot(num_seasons,s.total_goals.mean().values,label = \"Spanish La Liga\", marker = 'o')\n",
    "plt.legend(loc = 2)"
   ]
  },
  {
   "cell_type": "markdown",
   "metadata": {},
   "source": [
    "The Bundesliga teams score way more on average in each game that the teams in other leagues. In the 2013/2014 season, Bundesliga teams scored more than 3 goals each game on an average (967 goals in 306 matches - 3.16 per match)."
   ]
  },
  {
   "cell_type": "code",
   "execution_count": null,
   "metadata": {},
   "outputs": [],
   "source": [
    "average_goals_english = english.total_goals.mean()\n",
    "average_goals_spanish = spanish.total_goals.mean()\n",
    "average_goals_german = german.total_goals.mean()\n",
    "#print(\"{:.2}\".format(average_goals_english))\n",
    "#print(\"{:.2}\".format(average_goals_spanish))\n",
    "#print(\"{:.2}\".format(average_goals_german))"
   ]
  },
  {
   "cell_type": "code",
   "execution_count": null,
   "metadata": {},
   "outputs": [],
   "source": [
    "#Merging Home team and matches\n",
    "\n",
    "matches_h_teams = pd.merge(new_matches,teams,left_on='home_team_api_id', right_on='team_api_id')\n",
    "matches_h_teams = matches_h_teams.drop(['id','team_api_id','team_fifa_api_id'],axis = 1)\n",
    "matches_h_teams = matches_h_teams.rename(columns={'team_long_name':'home_team_long_name','name_y':'league_name','name':'country_name'})\n",
    "matches_h_teams.head()"
   ]
  },
  {
   "cell_type": "code",
   "execution_count": null,
   "metadata": {},
   "outputs": [],
   "source": [
    "top_goal_scorers_home = matches_h_teams.groupby('home_team_long_name').total_goals.sum().sort_values(ascending = False)\n",
    "top_goal_scorers_home.head(15)\n",
    "%matplotlib inline \n",
    "fig = plt.figure(figsize = (10,8))\n",
    "ax = fig.add_subplot(1,1,1)\n",
    "rects = ax.bar(range(15), top_goal_scorers_home.head(15).values,align = \"center\")\n",
    "ax.set_xticks(range(15))\n",
    "ax.set_xticklabels(top_goal_scorers_home.head(15).index,rotation = \"vertical\")\n",
    "ax.set_title(\"Top goal scorers at home\")\n",
    "ax.set_ylabel(\"Number of goals\")\n",
    "ax.set_xlabel(\"Team name\")"
   ]
  },
  {
   "cell_type": "code",
   "execution_count": null,
   "metadata": {},
   "outputs": [],
   "source": [
    "#Merging Away team and matches\n",
    "\n",
    "matches_a_teams = pd.merge(new_matches,teams,left_on='away_team_api_id', right_on='team_api_id')\n",
    "matches_a_teams = matches_a_teams.drop(['id','team_api_id','team_fifa_api_id'],axis = 1)\n",
    "matches_a_teams = matches_a_teams.rename(columns={'team_long_name':'away_team_long_name','name_y':'league_name','name':'country_name'})\n",
    "matches_a_teams.head()"
   ]
  },
  {
   "cell_type": "code",
   "execution_count": null,
   "metadata": {},
   "outputs": [],
   "source": [
    "top_goal_scorers_away = matches_a_teams.groupby('away_team_long_name').total_goals.sum().sort_values(ascending = False)\n",
    "top_goal_scorers_away.head(15)\n",
    "%matplotlib inline \n",
    "fig = plt.figure(figsize = (10,8))\n",
    "ax = fig.add_subplot(1,1,1)\n",
    "rects = ax.bar(range(15), top_goal_scorers_away.head(15).values,align = \"center\")\n",
    "ax.set_xticks(range(15))\n",
    "ax.set_xticklabels(top_goal_scorers_away.head(15).index,rotation = \"vertical\")\n",
    "ax.set_title(\"Top goal scorers at away\")\n",
    "ax.set_ylabel(\"Number of goals\")\n",
    "ax.set_xlabel(\"Team name\")"
   ]
  },
  {
   "cell_type": "code",
   "execution_count": null,
   "metadata": {},
   "outputs": [],
   "source": [
    "#select fields\n",
    "matches = matches3[matches3.league_id.isin(leagues.id)]\n",
    "matches = matches[['id', 'country_id' ,'league_id', 'season', 'stage', 'date','match_api_id', 'home_team_api_id', 'away_team_api_id','B365H', 'B365D' ,'B365A']]\n",
    "matches.dropna(inplace=True)\n",
    "matches.head()"
   ]
  },
  {
   "cell_type": "code",
   "execution_count": null,
   "metadata": {},
   "outputs": [],
   "source": [
    "from scipy.stats import entropy\n",
    "\n",
    "def match_entropy(row):\n",
    "    odds = [row['B365H'],row['B365D'],row['B365A']]\n",
    "    #change odds to probability\n",
    "    probs = [1/o for o in odds]\n",
    "    #normalize to sum to 1\n",
    "    norm = sum(probs)\n",
    "    probs = [p/norm for p in probs]\n",
    "    return entropy(probs)\n",
    "\n",
    "#compute match entropy\n",
    "matches['entropy'] = matches.apply(match_entropy,axis=1)"
   ]
  },
  {
   "cell_type": "code",
   "execution_count": null,
   "metadata": {},
   "outputs": [],
   "source": [
    "#compute mean entropy for every league in every season\n",
    "entropy_means = matches.groupby(('season','league_id')).entropy.mean()\n",
    "entropy_means = entropy_means.reset_index().pivot(index='season', columns='league_id', values='entropy')\n",
    "entropy_means.columns = [leagues[leagues.id==x].name.values[0] for x in entropy_means.columns]\n",
    "entropy_means.head(10)"
   ]
  },
  {
   "cell_type": "code",
   "execution_count": null,
   "metadata": {},
   "outputs": [],
   "source": [
    "#plot graph\n",
    "ax = entropy_means.plot(figsize=(12,8),marker='o')\n",
    "\n",
    "#set title\n",
    "plt.title('Leagues Predictability', fontsize=16)\n",
    "\n",
    "#set ticks roatation\n",
    "plt.xticks(rotation=50)\n",
    "\n",
    "#keep colors for next graph\n",
    "colors = [x.get_color() for x in ax.get_lines()]\n",
    "colors_mapping = dict(zip(leagues.id,colors))\n",
    "\n",
    "#remove x label\n",
    "ax.set_xlabel('')\n",
    "\n",
    "#locate legend \n",
    "plt.legend(loc='lower left')\n",
    "\n",
    "#add arrows\n",
    "ax.annotate('', xytext=(7.2, 1),xy=(7.2, 1.039),\n",
    "            arrowprops=dict(facecolor='black',arrowstyle=\"->, head_length=.7, head_width=.3\",linewidth=1), annotation_clip=False)\n",
    "\n",
    "ax.annotate('', xytext=(7.2, 0.96),xy=(7.2, 0.921),\n",
    "            arrowprops=dict(facecolor='black',arrowstyle=\"->, head_length=.7, head_width=.3\",linewidth=1), annotation_clip=False)\n",
    "\n",
    "ax.annotate('less predictable', xy=(7.3, 1.028), annotation_clip=False,fontsize=14,rotation='vertical')\n",
    "ax.annotate('more predictable', xy=(7.3, 0.952), annotation_clip=False,fontsize=14,rotation='vertical')\n",
    "\n",
    "#plt.savefig('figures/leagues_pred.png', bbox_inches='tight',dpi=600)"
   ]
  },
  {
   "cell_type": "code",
   "execution_count": null,
   "metadata": {},
   "outputs": [],
   "source": [
    "# Considering English Premier League\n",
    "\n",
    "main_countries = ['England']\n",
    "countries = countries[countries.name.isin(main_countries)]\n",
    "leagues = countries.merge(leagues,on='id',suffixes=('', '_y'))\n",
    "seasons = matches.season.unique()\n",
    "leagues"
   ]
  },
  {
   "cell_type": "code",
   "execution_count": null,
   "metadata": {},
   "outputs": [],
   "source": [
    "#Merge the leagues with corresponding matches\n",
    "\n",
    "req_matches = matches2[matches2.league_id.isin(leagues['id'])]\n",
    "req_matches = req_matches[['id','league_id','home_team_api_id','away_team_api_id','home_team_goal','away_team_goal','season']]\n",
    "req_matches[\"total_goals\"] = req_matches['home_team_goal'] + req_matches['away_team_goal']\n",
    "req_matches[\"result\"] = req_matches.apply(res,axis = 1)\n",
    "req_matches.dropna(inplace=True)\n",
    "req_matches.tail()"
   ]
  },
  {
   "cell_type": "code",
   "execution_count": null,
   "metadata": {},
   "outputs": [],
   "source": [
    "new_matches = pd.merge(req_matches,leagues,left_on='league_id', right_on='id')\n",
    "new_matches = new_matches.drop(['id_x','id_y','country_id'],axis = 1)\n",
    "english = new_matches[new_matches.name == \"England\"]\n",
    "\n",
    "# sum_goals = new_group_matches.home_team_goal.sum()\n",
    "e = english.groupby('season')\n",
    "seasons\n",
    "%matplotlib inline"
   ]
  },
  {
   "cell_type": "code",
   "execution_count": null,
   "metadata": {},
   "outputs": [],
   "source": [
    "#Plotting home scored each season\n",
    "fig = plt.figure(figsize=(10, 10))\n",
    "plt.xticks(range(len(seasons)),seasons)\n",
    "plt.style.use('ggplot')\n",
    "plt.title('Home goal each season')\n",
    "plt.xlabel('Season')\n",
    "plt.ylabel('Home-goals')\n",
    "plt.plot(num_seasons,e.home_team_goal.sum().values,label = \"English Premier League\", marker = 'o')"
   ]
  },
  {
   "cell_type": "code",
   "execution_count": null,
   "metadata": {},
   "outputs": [],
   "source": [
    "#Plotting away scored each season\n",
    "fig = plt.figure(figsize=(10, 10))\n",
    "plt.xticks(range(len(seasons)),seasons)\n",
    "plt.style.use('ggplot')\n",
    "plt.title('Away goal each season')\n",
    "plt.xlabel('Season')\n",
    "plt.ylabel('Away-goals')\n",
    "plt.plot(num_seasons,e.away_team_goal.sum().values,label = \"English Premier League\", marker = 'o')"
   ]
  },
  {
   "cell_type": "code",
   "execution_count": null,
   "metadata": {},
   "outputs": [],
   "source": [
    "#Plotting home/away scored each season\n",
    "fig = plt.figure(figsize=(10, 10))\n",
    "plt.xticks(range(len(seasons)),seasons)\n",
    "plt.style.use('ggplot')\n",
    "plt.title('Home-away goal ratio each season')\n",
    "plt.xlabel('Season')\n",
    "plt.ylabel('Home-goals to Away-goals ratio')\n",
    "plt.plot(num_seasons,e.home_team_goal.sum().values / e.away_team_goal.sum().values,label = \"English Premier League\", marker = 'o')"
   ]
  },
  {
   "cell_type": "code",
   "execution_count": null,
   "metadata": {},
   "outputs": [],
   "source": [
    "#Subsetting homewins vs homeloss from each of the leagues - ignoring draws.\n",
    "e_hw = np.true_divide(english[english.result == 1].groupby('season').result.sum().values,english[english.result == -1].groupby('season').result.sum().values * -1)\n",
    "\n",
    "\n",
    "#Plotting number of home wins vs home losses each season\n",
    "fig = plt.figure(figsize=(10, 10))\n",
    "plt.xticks(range(len(seasons)),seasons)\n",
    "plt.style.use('ggplot')\n",
    "plt.xlim = (-20,20)\n",
    "plt.ylim = (0,120)\n",
    "plt.title(\"Number of home wins each vs home loss each season\")\n",
    "plt.xlabel(\"Season\")\n",
    "plt.ylabel(\"Home Wins vs loss\")\n",
    "plt.plot(num_seasons,e_hw,label = \"English Premier League\", marker = 'o')\n",
    "display(e_hw)"
   ]
  },
  {
   "cell_type": "code",
   "execution_count": null,
   "metadata": {},
   "outputs": [],
   "source": [
    "# Read data from the CSV into a dataframe\n",
    "\n",
    "loc = \"Datasets\\\\\"\n",
    "\n",
    "raw_data_1 = pd.read_csv(loc + '2000-01.csv')\n",
    "raw_data_2 = pd.read_csv(loc + '2001-02.csv')\n",
    "raw_data_3 = pd.read_csv(loc + '2002-03.csv')\n",
    "raw_data_4 = pd.read_csv(loc + '2003-04.csv')\n",
    "raw_data_5 = pd.read_csv(loc + '2004-05.csv')\n",
    "raw_data_6 = pd.read_csv(loc + '2005-06.csv')\n",
    "raw_data_7 = pd.read_csv(loc + '2006-07.csv')\n",
    "raw_data_8 = pd.read_csv(loc + '2007-08.csv')\n",
    "raw_data_9 = pd.read_csv(loc + '2008-09.csv')\n",
    "raw_data_10 = pd.read_csv(loc + '2009-10.csv')\n",
    "raw_data_11 = pd.read_csv(loc + '2010-11.csv')\n",
    "raw_data_12 = pd.read_csv(loc + '2011-12.csv')\n",
    "raw_data_13 = pd.read_csv(loc + '2012-13.csv')\n",
    "raw_data_14 = pd.read_csv(loc + '2013-14.csv')\n",
    "raw_data_15 = pd.read_csv(loc + '2014-15.csv')\n",
    "raw_data_16 = pd.read_csv(loc + '2015-16.csv')"
   ]
  },
  {
   "cell_type": "code",
   "execution_count": null,
   "metadata": {},
   "outputs": [],
   "source": [
    "# Selecting the features\n",
    "\n",
    "raw_data_1 =raw_data_1[['HomeTeam','AwayTeam','FTHG','FTAG','FTR','HTHG','HTAG','HTR','HS','AS','HST','AST','HF','AF','HC','AC','HY','AY','HR','AR']]\n",
    "raw_data_2 =raw_data_1[['HomeTeam','AwayTeam','FTHG','FTAG','FTR','HTHG','HTAG','HTR','HS','AS','HST','AST','HF','AF','HC','AC','HY','AY','HR','AR']]\n",
    "raw_data_3 =raw_data_1[['HomeTeam','AwayTeam','FTHG','FTAG','FTR','HTHG','HTAG','HTR','HS','AS','HST','AST','HF','AF','HC','AC','HY','AY','HR','AR']]\n",
    "raw_data_4 =raw_data_1[['HomeTeam','AwayTeam','FTHG','FTAG','FTR','HTHG','HTAG','HTR','HS','AS','HST','AST','HF','AF','HC','AC','HY','AY','HR','AR']]\n",
    "raw_data_5 =raw_data_1[['HomeTeam','AwayTeam','FTHG','FTAG','FTR','HTHG','HTAG','HTR','HS','AS','HST','AST','HF','AF','HC','AC','HY','AY','HR','AR']]\n",
    "raw_data_6 =raw_data_1[['HomeTeam','AwayTeam','FTHG','FTAG','FTR','HTHG','HTAG','HTR','HS','AS','HST','AST','HF','AF','HC','AC','HY','AY','HR','AR']]\n",
    "raw_data_7 =raw_data_1[['HomeTeam','AwayTeam','FTHG','FTAG','FTR','HTHG','HTAG','HTR','HS','AS','HST','AST','HF','AF','HC','AC','HY','AY','HR','AR']]\n",
    "raw_data_8 =raw_data_1[['HomeTeam','AwayTeam','FTHG','FTAG','FTR','HTHG','HTAG','HTR','HS','AS','HST','AST','HF','AF','HC','AC','HY','AY','HR','AR']]\n",
    "raw_data_9 =raw_data_1[['HomeTeam','AwayTeam','FTHG','FTAG','FTR','HTHG','HTAG','HTR','HS','AS','HST','AST','HF','AF','HC','AC','HY','AY','HR','AR']]\n",
    "raw_data_10 =raw_data_1[['HomeTeam','AwayTeam','FTHG','FTAG','FTR','HTHG','HTAG','HTR','HS','AS','HST','AST','HF','AF','HC','AC','HY','AY','HR','AR']]\n",
    "raw_data_11 =raw_data_1[['HomeTeam','AwayTeam','FTHG','FTAG','FTR','HTHG','HTAG','HTR','HS','AS','HST','AST','HF','AF','HC','AC','HY','AY','HR','AR']]\n",
    "raw_data_12 =raw_data_1[['HomeTeam','AwayTeam','FTHG','FTAG','FTR','HTHG','HTAG','HTR','HS','AS','HST','AST','HF','AF','HC','AC','HY','AY','HR','AR']]\n",
    "raw_data_13 =raw_data_1[['HomeTeam','AwayTeam','FTHG','FTAG','FTR','HTHG','HTAG','HTR','HS','AS','HST','AST','HF','AF','HC','AC','HY','AY','HR','AR']]\n",
    "raw_data_14 =raw_data_1[['HomeTeam','AwayTeam','FTHG','FTAG','FTR','HTHG','HTAG','HTR','HS','AS','HST','AST','HF','AF','HC','AC','HY','AY','HR','AR']]\n",
    "raw_data_15 =raw_data_1[['HomeTeam','AwayTeam','FTHG','FTAG','FTR','HTHG','HTAG','HTR','HS','AS','HST','AST','HF','AF','HC','AC','HY','AY','HR','AR']]\n",
    "raw_data_16 =raw_data_1[['HomeTeam','AwayTeam','FTHG','FTAG','FTR','HTHG','HTAG','HTR','HS','AS','HST','AST','HF','AF','HC','AC','HY','AY','HR','AR']]"
   ]
  },
  {
   "cell_type": "code",
   "execution_count": null,
   "metadata": {},
   "outputs": [],
   "source": [
    "# Concating the data on one dataframe\n",
    "\n",
    "playing_stat = pd.concat([raw_data_1,raw_data_2,raw_data_3,raw_data_4,raw_data_5,raw_data_6,raw_data_7,raw_data_8,raw_data_9,raw_data_10,raw_data_11,raw_data_12,raw_data_13,raw_data_14,raw_data_15,raw_data_16],ignore_index=True)\n"
   ]
  },
  {
   "cell_type": "code",
   "execution_count": null,
   "metadata": {},
   "outputs": [],
   "source": [
    "# Creating csv file from the merged dataframe\n",
    "\n",
    "playing_stat.to_csv(loc + \"Merged_dataset.csv\")"
   ]
  },
  {
   "cell_type": "code",
   "execution_count": null,
   "metadata": {},
   "outputs": [],
   "source": [
    "df = pd.read_csv(\"Datasets\\\\merged_dataset.csv\")"
   ]
  },
  {
   "cell_type": "code",
   "execution_count": null,
   "metadata": {},
   "outputs": [],
   "source": [
    "table = pd.DataFrame(columns=('Team','HGS','AGS','HAS','AAS','HGC','AGC','HDS','ADS'))\n",
    "\n",
    "avg_home_scored = df.FTHG.sum() / 6080.0\n",
    "avg_away_scored = df.FTAG.sum() / 6080.0\n",
    "avg_home_conceded = avg_away_scored\n",
    "avg_away_conceded = avg_home_scored\n",
    "print(avg_away_conceded)"
   ]
  },
  {
   "cell_type": "code",
   "execution_count": null,
   "metadata": {},
   "outputs": [],
   "source": [
    "res_home = df.groupby('HomeTeam')\n",
    "res_away = df.groupby('AwayTeam')"
   ]
  },
  {
   "cell_type": "code",
   "execution_count": null,
   "metadata": {},
   "outputs": [],
   "source": [
    "table.Team = res_home.HomeTeam.all().values\n",
    "table.HGS = res_home.FTHG.sum().values\n",
    "table.HGC = res_home.FTAG.sum().values\n",
    "table.AGS = res_away.FTAG.sum().values\n",
    "table.AGC = res_away.FTHG.sum().values\n",
    "#19 Home matches for each team each season and 16 seasons therefore 304 home matches and 304 away matches\n",
    "table.HAS = (table.HGS / 304.0) / avg_home_scored\n",
    "table.AAS = (table.AGS / 304.0) / avg_away_scored\n",
    "table.HDS = (table.HGC / 304.0) / avg_home_conceded\n",
    "table.ADS = (table.AGC / 304.0) / avg_away_conceded\n",
    "\n",
    "table"
   ]
  },
  {
   "cell_type": "code",
   "execution_count": null,
   "metadata": {},
   "outputs": [],
   "source": [
    "#Extract necessary features from the data file\n",
    "feature_table = df.iloc[:,:23]\n",
    "\n",
    "#Full Time Result(FTR), Home Shots on Target(HST), Away Shots on Target(AST), Home Corners(HC), Away Corners(AC)\n",
    "feature_table = feature_table[['HomeTeam','AwayTeam','FTR','HST','AST','HC','AC']]\n",
    "\n",
    "#Home Attacking Strength(HAS), Home Defensive Strength(HDS), Away Attacking Strength(AAS), Away Defensive Strength(ADS)\n",
    "f_HAS = []\n",
    "f_HDS = []\n",
    "f_AAS = []\n",
    "f_ADS = []\n",
    "for index,row in feature_table.iterrows():\n",
    "    f_HAS.append(table[table['Team'] == row['HomeTeam']]['HAS'].values[0])\n",
    "    f_HDS.append(table[table['Team'] == row['HomeTeam']]['HDS'].values[0])\n",
    "    f_AAS.append(table[table['Team'] == row['AwayTeam']]['AAS'].values[0])\n",
    "    f_ADS.append(table[table['Team'] == row['AwayTeam']]['ADS'].values[0])\n",
    "\n",
    "feature_table['HAS'] = f_HAS\n",
    "feature_table['HDS'] = f_HDS\n",
    "feature_table['AAS'] = f_AAS\n",
    "feature_table['ADS'] = f_ADS\n",
    "feature_table"
   ]
  },
  {
   "cell_type": "code",
   "execution_count": null,
   "metadata": {},
   "outputs": [],
   "source": [
    "feature_table.to_csv(loc + \"Feature_table.csv\")"
   ]
  },
  {
   "cell_type": "code",
   "execution_count": null,
   "metadata": {},
   "outputs": [],
   "source": [
    "#Function to transform FTR into numeric data type\n",
    "def transformResult(row):\n",
    "    if(row.FTR == 'H'):\n",
    "        return 1\n",
    "    elif(row.FTR == 'A'):\n",
    "        return -1\n",
    "    else:\n",
    "        return 0"
   ]
  },
  {
   "cell_type": "code",
   "execution_count": null,
   "metadata": {},
   "outputs": [],
   "source": [
    "feature_table[\"Result\"] = feature_table.apply(lambda row: transformResult(row),axis=1)\n",
    "feature_table.tail()"
   ]
  },
  {
   "cell_type": "code",
   "execution_count": null,
   "metadata": {},
   "outputs": [],
   "source": [
    "#Two sets of training sets - adding features.\n",
    "X_train = feature_table[['HAS','HDS','AAS','ADS']]\n",
    "X_train_2 = feature_table[['HAS','HDS','AAS','ADS','HST','AST','HC','AC']]\n",
    "y_train = feature_table['Result']\n",
    "display(X_train.tail())\n",
    "display(X_train_2.tail())"
   ]
  },
  {
   "cell_type": "markdown",
   "metadata": {},
   "source": [
    "## Conclusion\n",
    "\n",
    "It can be seen that when we include corners and shots in the feature we get a better output than without them. Support Vector Machine gives the best accuracy score without normalization.But after normalization there was an improvement in the Logistic Regression output. The betting accuracy of bookies was around 53% while the model created using SVM gave an accuracy of 61.29%. The accuracy can further increase if we could add more features like team form or player form. We could also add the twitter analysis for prediction. We could implement different model like xgboost with the same features which could improve the accuracy."
   ]
  }
 ],
 "metadata": {
  "kernelspec": {
   "display_name": "Python 3",
   "language": "python",
   "name": "python3"
  },
  "language_info": {
   "codemirror_mode": {
    "name": "ipython",
    "version": 3
   },
   "file_extension": ".py",
   "mimetype": "text/x-python",
   "name": "python",
   "nbconvert_exporter": "python",
   "pygments_lexer": "ipython3",
   "version": "3.8.5"
  }
 },
 "nbformat": 4,
 "nbformat_minor": 4
}
